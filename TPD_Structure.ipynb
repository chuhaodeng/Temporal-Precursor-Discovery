{
  "nbformat": 4,
  "nbformat_minor": 0,
  "metadata": {
    "colab": {
      "provenance": []
    },
    "kernelspec": {
      "name": "python3",
      "display_name": "Python 3"
    },
    "language_info": {
      "name": "python"
    }
  },
  "cells": [
    {
      "cell_type": "code",
      "execution_count": 2,
      "metadata": {
        "id": "kewUL_MmPGpB"
      },
      "outputs": [],
      "source": [
        "import torch\n",
        "from torch import nn\n",
        "import torch.nn.functional as F\n",
        "from torch.nn import LSTM\n"
      ]
    },
    {
      "cell_type": "code",
      "source": [
        "class TPD(nn.Module):\n",
        "\n",
        "    __constants__ = [\"n_units\", \"input_dim\"]\n",
        "    def __init__(self, input_dim, output_dim, n_units):\n",
        "        super(TPD, self).__init__()\n",
        "\n",
        "        self.n_units = n_units\n",
        "        self.input_dim = input_dim\n",
        "\n",
        "        self.left_fc_1 = nn.Linear(n_units, int(1/2*n_units))\n",
        "        self.left_fc_2 = nn.Linear(int(1/2*n_units),int(1/4*n_units))\n",
        "        self.left_fc_3 = nn.Linear(int(1/4*n_units),1)\n",
        "\n",
        "        self.right_fc_1 = nn.Linear(n_units, int(1/2*n_units))\n",
        "        self.right_fc_2 = nn.Linear(int(1/2*n_units),int(1/4*n_units))\n",
        "        self.right_fc_3 = nn.Linear(int(1/4*n_units),1)\n",
        "\n",
        "        self.layers = nn.ModuleList([nn.LSTM(input_size=1,hidden_size=n_units,num_layers=1) for i in range(input_dim)])\n",
        "\n",
        "        self.sigmoid = torch.nn.Sigmoid()\n",
        "        self.softmax = torch.nn.Softmax(dim=1)\n",
        "\n",
        "    def forward(self, x):\n",
        "        temp = x[:,:,0]\n",
        "        temp = temp[:,:,None]\n",
        "\n",
        "        first = self.layers[0]\n",
        "        output,_ = first(temp)\n",
        "\n",
        "        i = 1\n",
        "        for layer in self.layers[1:]:\n",
        "            temp = x[:,:,i]\n",
        "            temp = temp[:,:,None]\n",
        "            temp,_ = layer(temp)\n",
        "            output = torch.cat((output,temp))\n",
        "            i += 1\n",
        "\n",
        "        output = output.permute(1,0,2)\n",
        "        left = torch.relu(self.left_fc_1(output))\n",
        "        left = torch.tanh(self.left_fc_2(left))\n",
        "        left = self.softmax(self.left_fc_3(left))\n",
        "\n",
        "        right = F.relu(self.right_fc_1(output))\n",
        "        right = F.relu(self.right_fc_2(right))\n",
        "        right = self.sigmoid(self.right_fc_3(right))\n",
        "\n",
        "        prob = torch.sum(left*right,dim=1)\n",
        "\n",
        "        return torch.squeeze(prob), torch.squeeze(left)"
      ],
      "metadata": {
        "id": "4MWpK_iTPTVR"
      },
      "execution_count": 5,
      "outputs": []
    },
    {
      "cell_type": "code",
      "source": [
        "N = 11\n",
        "M = 512\n",
        "model = TPD(N,1,M)\n",
        "t = 100\n",
        "x = torch.randn((1,t,N))\n",
        "p,alpha = model(x)"
      ],
      "metadata": {
        "id": "BdhmLawEPjYD"
      },
      "execution_count": 6,
      "outputs": []
    }
  ]
}